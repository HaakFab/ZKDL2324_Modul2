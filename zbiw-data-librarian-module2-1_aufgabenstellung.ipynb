{
 "cells": [
  {
   "attachments": {},
   "cell_type": "markdown",
   "id": "9ecba11d-37ae-4de3-846b-45c81d163cec",
   "metadata": {},
   "source": [
    "# Aufgabenstellungen Modul 2"
   ]
  },
  {
   "attachments": {},
   "cell_type": "markdown",
   "id": "9fd06c8f-8048-405d-a693-a05063dd4883",
   "metadata": {},
   "source": [
    "## Aufgabenstellung Teilmodul 2.1\n",
    "\n",
    "### Auswahl und Zusammenführen Ihrer Daten\n",
    "Suchen Sie auf [bibsonomy](https://www.bibsonomy.org) mit einem selbst gewählten Suchbegriff nach Publikationen. Auf [bibsonomy](https://www.bibsonomy.org) lassen sich die Ergebnisse einer Keyword-Suche (z.B. [\"Bibliothek\"](https://www.bibsonomy.org/export/search/Bibliothek)) in einer Vielzahl verschiedener Formate exportieren (Limit ggf. vorher auf 1000 erhöhen) und lokal speichern. Geben Sie dafür einen Suchbegriff oben rechts in die Maske ein und bestätigen Sie. Rechts neben der Überschrift der rechten Spalte (\"publications\"/\"Publikationen\") klicken Sie ganz rechte auf das Symbol mit dem Pfeil nach rechts, der aus einem Kasten zeigt (\"export options for displayed posts\"/\"Exportieren für angezeigte Einträge\"), dann auf mehr/more. Wählen Sie ZUERST bei posts/Einträge \"1000\" aus, und wählen sie dann in dem Format drop-Down-Menü fast ganz unten JSON aus. Es öffnet sich die JSON Datei in ihrem Browser.  Sie können die URL wie im Tutorial über das requests Modul in Python öffnen.\n",
    "Alternativ können Sie die Datei auch lokal speichern. Dafür rechtsklicken Sie irgendwo, wählen Sie \"save as...\"/\"speichern unter...\" und speichern Sie die Datei unter einem passenden Dateinamen mit der Endung \".json\".\n",
    "\n",
    "Für eine Nutzung im zweiten Modulteil ist ein großer Datensatz sinnvoll.Fügen sie daher die Ergebnisse mehrerer Suchen mit Pandas in einem Datensatz zusammenführen. \n",
    "Fügen sie ihren Datensätzen dabei den Suchterm hinzu, der zu den Ergebnissen geführt hat. Tipp: Informationen dazu finden Sie unter \"Daten Verändern und Hinzufügen\".\n",
    "\n",
    "Nutzen sie dabei Python (vorzugsweise in einem Jupyter Notebook) mithilfe von Pandas. Sollten Sie Probleme haben, schauen Sie im Pandas Tutorial unter \"JSON einlesen\" oder bitten Sie Fabian Haak im Moodle Austauschforum um Hilfe.\n",
    "\n",
    "Legen Sie Ihr Notebook bzw. Python-Script mit den Lösungen in einem \"Modul_2-1\" Ordner im eigenen Repositorium auf GitHub ab. Fügen Sie mich als zusätzlichen Collaborator (GitHub-Name: HaakFab) hinzu, so kann ich besser Feedback oder Hilfestellungen geben."
   ]
  },
  {
   "attachments": {},
   "cell_type": "markdown",
   "id": "8f490fc5-98f1-4ff5-a05b-a2ff993fdc88",
   "metadata": {},
   "source": [
    "### Exportformat erstellen"
   ]
  },
  {
   "attachments": {},
   "cell_type": "markdown",
   "id": "baf41009-f543-4646-bbb7-86eaf1d13e05",
   "metadata": {},
   "source": [
    "Diese Teilaufgabe dient als direkte Vorbereitung des nächsten Modulteils. Wir empfehlen, Pandas für die Bearbeitung der Aufgabe zu nutzen. \n",
    "\n",
    "#### Datenaufbereitung\n",
    "Für den nächsten Teil dieses Modules möchten wir unseren Datensatz wieder als JSON-File ablegen. Zunächst möchten wir aber die Bibsonomy-Daten  noch etwas zu bereinigen:\n",
    "- Filtern Sie die Daten so, dass nur noch Einträge des Typs \"Publication\" enthalten sind.\n",
    "- Überlegen Sie, welche Felder Sie möglicherweise umbenennen wollen, und welche Sie nicht benötigen. Benennen Sie entsprechend um und wählen Sie nur die Spalten, die für Sie sinnvolle Informationen enthalten. Mögliche Änderungen der Daten sind das Umbenennen von Felder zu eindeutigeren Bezeichnungen (wie beispielsweise im Pandas Tutorial \"label\" zu \"title\"). Filtern Sie ihre Daten jedoch nicht zu drastisch und entfernen Sie nicht zu viele Felder, damit im zweiten Modulteil noch genügend Informationen übrig bleiben. \n",
    "- Wenn sie mehrere Suchergebnisse zusammengeführt haben, ist es sinnvoll, Nachduplikaten zu überprüfen.\n",
    "- BONUS: Wie bei den Jareszahlen ist es durchaus sinnvoll, zu überprüfen, ob alle Einträge \"sauber\" vorliegen. Stellen sie dafür sicher, dass alle Einträge Informationen zu Titel, AutorInnen und Veröffentlichungsjahr enthalten und dass das Jahr eine sinnvolle Zahl ist!\n",
    "\n",
    "#### Daten Export\n",
    "Erstellen Sie einen sauberen Export im JSON-Format, das von Solr akzeptiert wird.\n",
    "\n",
    "Hier ein Beispiel, das zeigt, wie die Struktur aussehen soll:\n",
    "\n",
    "```json\n",
    "[\n",
    "  {\n",
    "    \"id\" : \"978-0641723445\",\n",
    "    \"cat\" : [\"book\",\"hardcover\"],\n",
    "    \"name\" : \"The Lightning Thief\",\n",
    "    \"author\" : \"Rick Riordan\",\n",
    "    \"series_t\" : \"Percy Jackson and the Olympians\",\n",
    "    \"sequence_i\" : 1,\n",
    "    \"genre_s\" : \"fantasy\",\n",
    "    \"inStock\" : true,\n",
    "    \"price\" : 12.50,\n",
    "    \"pages_i\" : 384\n",
    "  }\n",
    ",\n",
    "  {\n",
    "    \"id\" : \"978-1423103349\",\n",
    "    \"cat\" : [\"book\",\"paperback\"],\n",
    "    \"name\" : \"The Sea of Monsters\",\n",
    "    \"author\" : \"Rick Riordan\",\n",
    "    \"series_t\" : \"Percy Jackson and the Olympians\",\n",
    "    \"sequence_i\" : 2,\n",
    "    \"genre_s\" : \"fantasy\",\n",
    "    \"inStock\" : true,\n",
    "    \"price\" : 6.49,\n",
    "    \"pages_i\" : 304\n",
    "  }\n",
    "]\n",
    "```\n",
    "\n",
    "Hinweis: Für die Weitervervendung ist nicht relevant, wie die einzelnen Felder benannt sind oder wie viele Felder es gibt, Es ist aber entscheidend, dass die äußere Form einer Liste von Dictionaries gewahrt wird. (HINWEIS BEI PROBLEMEN: Schauen Sie im Pandas Tutorial unter \"Export als JSON\")"
   ]
  }
 ],
 "metadata": {
  "kernelspec": {
   "display_name": "Python 3 (ipykernel)",
   "language": "python",
   "name": "python3"
  },
  "language_info": {
   "codemirror_mode": {
    "name": "ipython",
    "version": 3
   },
   "file_extension": ".py",
   "mimetype": "text/x-python",
   "name": "python",
   "nbconvert_exporter": "python",
   "pygments_lexer": "ipython3",
   "version": "3.10.8"
  }
 },
 "nbformat": 4,
 "nbformat_minor": 5
}
